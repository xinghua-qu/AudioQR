{
 "cells": [
  {
   "cell_type": "code",
   "execution_count": 4,
   "id": "8662272b",
   "metadata": {},
   "outputs": [
    {
     "name": "stdout",
     "output_type": "stream",
     "text": [
      "tensor([1., 2., 3.])\n"
     ]
    }
   ],
   "source": [
    "import torch\n",
    "a = torch.Tensor([1,2,3])\n",
    "b = torch.Tensor([1,2,3])\n",
    "recon_msg = torch.stack([a,b], dim=1)\n",
    "recon_msg = recon_msg.mean(dim=1)\n",
    "print(recon_msg)"
   ]
  },
  {
   "cell_type": "code",
   "execution_count": null,
   "id": "555459f2",
   "metadata": {},
   "outputs": [],
   "source": []
  }
 ],
 "metadata": {
  "kernelspec": {
   "display_name": "Python 3 (ipykernel)",
   "language": "python",
   "name": "python3"
  },
  "language_info": {
   "codemirror_mode": {
    "name": "ipython",
    "version": 3
   },
   "file_extension": ".py",
   "mimetype": "text/x-python",
   "name": "python",
   "nbconvert_exporter": "python",
   "pygments_lexer": "ipython3",
   "version": "3.7.3"
  }
 },
 "nbformat": 4,
 "nbformat_minor": 5
}
