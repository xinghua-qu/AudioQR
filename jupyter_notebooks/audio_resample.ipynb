{
 "cells": [
  {
   "cell_type": "code",
   "execution_count": 6,
   "id": "c9f0807c",
   "metadata": {},
   "outputs": [],
   "source": [
    "import glob\n",
    "import librosa\n",
    "import soundfile\n",
    "directory = './background_noise/environment'\n",
    "SAMPLE_RATE = 22050\n",
    "for filename in glob.iglob(f'{directory}/*'):\n",
    "    y, sr = librosa.load(filename)\n",
    "    data = librosa.resample(y, sr, SAMPLE_RATE)\n",
    "    soundfile.write('{}'.format(filename), data, SAMPLE_RATE)"
   ]
  },
  {
   "cell_type": "code",
   "execution_count": 1,
   "id": "1e5e41b0",
   "metadata": {},
   "outputs": [],
   "source": [
    "import glob\n",
    "import librosa\n",
    "import soundfile\n",
    "import numpy as np\n",
    "import os\n",
    "directory = './background_noise/music'\n",
    "new_dir = './background_noise/new_music'\n",
    "SAMPLE_RATE = 22050\n",
    "index = 0\n",
    "for filename in glob.iglob(f'{directory}/*'):\n",
    "    y, sr = librosa.load(filename)\n",
    "    if sr!=22050:\n",
    "        data = librosa.resample(y, sr, SAMPLE_RATE)\n",
    "    else:\n",
    "        data = y\n",
    "    for i in range(10):\n",
    "        start = np.random.randint(0, data.shape[0]-22050*10)\n",
    "        end = start + 22050*10\n",
    "        audio_slice = data[start:end]\n",
    "        soundfile.write('{}/slice_{}.wav'.format(new_dir, index), audio_slice, SAMPLE_RATE)\n",
    "        index += 1"
   ]
  },
  {
   "cell_type": "code",
   "execution_count": null,
   "id": "d1d8ca5e",
   "metadata": {},
   "outputs": [],
   "source": [
    "import glob\n",
    "import librosa\n",
    "import soundfile\n",
    "directory = './background_noise/rir_audios'\n",
    "SAMPLE_RATE = 22050\n",
    "for filename in glob.iglob(f'{directory}/*'):\n",
    "    y, sr = librosa.load(filename)\n",
    "    data = librosa.resample(y, sr, SAMPLE_RATE)\n",
    "    soundfile.write('{}'.format(filename), data, SAMPLE_RATE)"
   ]
  },
  {
   "cell_type": "code",
   "execution_count": null,
   "id": "f3dcdcdc",
   "metadata": {},
   "outputs": [],
   "source": []
  }
 ],
 "metadata": {
  "kernelspec": {
   "display_name": "Python 3 (ipykernel)",
   "language": "python",
   "name": "python3"
  },
  "language_info": {
   "codemirror_mode": {
    "name": "ipython",
    "version": 3
   },
   "file_extension": ".py",
   "mimetype": "text/x-python",
   "name": "python",
   "nbconvert_exporter": "python",
   "pygments_lexer": "ipython3",
   "version": "3.7.3"
  }
 },
 "nbformat": 4,
 "nbformat_minor": 5
}
